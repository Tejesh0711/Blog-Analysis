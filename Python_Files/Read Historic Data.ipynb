{
 "cells": [
  {
   "cell_type": "code",
   "execution_count": 1,
   "metadata": {
    "collapsed": false,
    "scrolled": true
   },
   "outputs": [],
   "source": [
    "import pip\n",
    "def install(package):\n",
    "   pip.main(['install', package])\n",
    "\n",
    "#install('BeautifulSoup4')\n",
    "#install('webhoseio')"
   ]
  },
  {
   "cell_type": "code",
   "execution_count": 2,
   "metadata": {
    "collapsed": true
   },
   "outputs": [],
   "source": [
    "import webhoseio\n",
    "import requests\n",
    "import numpy as np\n",
    "import pandas as pd\n",
    "import json\n",
    "import os\n",
    "import time\n",
    "import datetime\n",
    "import random"
   ]
  },
  {
   "cell_type": "code",
   "execution_count": 3,
   "metadata": {
    "collapsed": false
   },
   "outputs": [
    {
     "name": "stdout",
     "output_type": "stream",
     "text": [
      "C:\\Users\\Harshad 0509\\Documents\\ADS\n"
     ]
    }
   ],
   "source": [
    "current_directory=os.getcwd()\n",
    "root_directory=os.path.abspath(os.path.join(current_directory, os.pardir)) #To get the parent directory of current directory\n",
    "print(root_directory)"
   ]
  },
  {
   "cell_type": "code",
   "execution_count": 4,
   "metadata": {
    "collapsed": false
   },
   "outputs": [
    {
     "name": "stdout",
     "output_type": "stream",
     "text": [
      "C:\\Users\\Harshad 0509\\Documents\\ADS\\Project\\ADS_Dataframe\n"
     ]
    }
   ],
   "source": [
    "path=current_directory+\"\\\\ADS_Dataframe\"\n",
    "print(path)"
   ]
  },
  {
   "cell_type": "code",
   "execution_count": 5,
   "metadata": {
    "collapsed": false
   },
   "outputs": [
    {
     "data": {
      "text/plain": [
       "'ADS_Dataframe'"
      ]
     },
     "execution_count": 5,
     "metadata": {},
     "output_type": "execute_result"
    }
   ],
   "source": [
    "os.path.basename(path)"
   ]
  },
  {
   "cell_type": "code",
   "execution_count": 6,
   "metadata": {
    "collapsed": true
   },
   "outputs": [],
   "source": [
    "searchKeywdList = ['Entertainment','Financial','Company','Hotel','Movie','Political','Company','Hotel','Movie','Sports','Technology','Travel','World']\n",
    "#nonSearchKeywd = ['World','Travel','Technology','Sports','Movie','Hotel','Entertainment','Political','Movie','Hotel','Company','Financial','Company']"
   ]
  },
  {
   "cell_type": "code",
   "execution_count": null,
   "metadata": {
    "collapsed": true
   },
   "outputs": [],
   "source": [
    "bag_of_words = pd.DataFrame(columns=['Entertainment','Financial',\n",
    "                              'Company','Hotel','Movie','Political',\n",
    "                              'Company','Hotel','Movie','Sports','Technology',\n",
    "                              'Travel','World'])"
   ]
  },
  {
   "cell_type": "code",
   "execution_count": null,
   "metadata": {
    "collapsed": true
   },
   "outputs": [],
   "source": []
  },
  {
   "cell_type": "code",
   "execution_count": null,
   "metadata": {
    "collapsed": true
   },
   "outputs": [],
   "source": []
  },
  {
   "cell_type": "code",
   "execution_count": 53,
   "metadata": {
    "collapsed": false
   },
   "outputs": [
    {
     "name": "stdout",
     "output_type": "stream",
     "text": [
      "ADS_Dataframe\n",
      "Entertainment_News\n",
      "Entertainment\n",
      "Financial_News\n",
      "Financial\n",
      "Negative_Companies\n",
      "Company\n",
      "Negative_Hotel\n",
      "Hotel\n",
      "Negative_Movies\n",
      "Movie\n",
      "Political_News\n",
      "Political\n",
      "Positive_Companies\n",
      "Company\n",
      "Positive_Hotel\n",
      "Hotel\n",
      "Positive_Movies\n",
      "Movie\n",
      "Sports_News\n",
      "Sports\n",
      "Technology_News\n",
      "Technology\n",
      "Travel_News\n",
      "Travel\n",
      "World_News\n",
      "World\n"
     ]
    }
   ],
   "source": [
    "from collections import namedtuple\n",
    "data = pd.DataFrame( columns=['author','highlightTitle','uuid','text','title',\n",
    "                             'ord_in_thread','highlightText','social_vk_shares','social_stumbledupon_shares',\n",
    "                             'social_linkedin_shares','social_pinterest_shares','social_gplus_shares',\n",
    "                             'social_facebook_shares','social_facebook_comments','social_facebook_likes',\n",
    "                             'crawled','published','thread_spam_score','thread_site_type','thread_site_full',\n",
    "                             'thread_title_full','thread_performance_score','thread_title','thread_replies_count',\n",
    "                             'thread_main_image','thread_uuid','thread_site_section','thread_published',\n",
    "                             'thread_participants_count','thread_url','thread_country','thread_site','thread_section_title',\n",
    "                              'url','language','Keyword','relevent_flag'])\n",
    "\n",
    "\n",
    "nonSearcKeyword = searchKeywdList[random.randint(0,12)]\n",
    "for directory, subdirectory, filenames in os.walk(path):\n",
    "    searchkeyword = os.path.basename(directory)\n",
    "    relevent_flag = 1\n",
    "    while(searchkeyword==nonSearcKeyword):\n",
    "        nonSearcKeyword = searchKeywdList[random.randint(0,12)]\n",
    "    count = 0;\n",
    "    print(searchkeyword)\n",
    "    for filename in filenames:\n",
    "        if(count == 250):\n",
    "            searchkeyword = nonSearcKeyword\n",
    "            relevent_flag = 0          \n",
    "        with open(os.path.join(directory, filename), \"r\", encoding=\"cp866\") as f:\n",
    "            file_data = f.read()\n",
    "            json1_data = json.loads(file_data, object_hook=lambda d: namedtuple('X', d.keys())(*d.values()))\n",
    "            \n",
    "            \n",
    "            dataList = [json1_data.author,\n",
    "                        json1_data.highlightTitle,\n",
    "                        json1_data.uuid,\n",
    "                        json1_data.text,\n",
    "                        json1_data.title,\n",
    "                        json1_data.ord_in_thread,\n",
    "                        json1_data.highlightText,\n",
    "                        json1_data.social.vk.shares,\n",
    "                        json1_data.social.stumbledupon.shares,\n",
    "                        json1_data.social.linkedin.shares,\n",
    "                        json1_data.social.pinterest.shares,\n",
    "                        json1_data.social.gplus.shares,\n",
    "                        json1_data.social.facebook.shares,\n",
    "                        json1_data.social.facebook.comments,\n",
    "                        json1_data.social.facebook.likes,\n",
    "                        json1_data.crawled,\n",
    "                        json1_data.published,\n",
    "                        json1_data.thread.spam_score,\n",
    "                        json1_data.thread.site_type,\n",
    "                        json1_data.thread.site_full,\n",
    "                        json1_data.thread.title_full,\n",
    "                        json1_data.thread.performance_score,\n",
    "                        json1_data.thread.title,\n",
    "                        json1_data.thread.replies_count,\n",
    "                        json1_data.thread.main_image,\n",
    "                        json1_data.thread.uuid,\n",
    "                        json1_data.thread.site_section,\n",
    "                        json1_data.thread.published,\n",
    "                        json1_data.thread.participants_count,\n",
    "                        json1_data.thread.url,\n",
    "                        json1_data.thread.country,\n",
    "                        json1_data.thread.site,\n",
    "                        json1_data.thread.section_title,\n",
    "                        json1_data.url,\n",
    "                        json1_data.language,\n",
    "                        searchkeyword,\n",
    "                        relevent_flag]\n",
    "            data.loc[len(data)] = dataList\n",
    "        count = count + 1\n",
    "        if(count == 500):\n",
    "            break;"
   ]
  },
  {
   "cell_type": "code",
   "execution_count": 54,
   "metadata": {
    "collapsed": false
   },
   "outputs": [
    {
     "data": {
      "text/html": [
       "<div>\n",
       "<table border=\"1\" class=\"dataframe\">\n",
       "  <thead>\n",
       "    <tr style=\"text-align: right;\">\n",
       "      <th></th>\n",
       "      <th>author</th>\n",
       "      <th>highlightTitle</th>\n",
       "      <th>uuid</th>\n",
       "      <th>text</th>\n",
       "      <th>title</th>\n",
       "      <th>ord_in_thread</th>\n",
       "      <th>highlightText</th>\n",
       "      <th>social_vk_shares</th>\n",
       "      <th>social_stumbledupon_shares</th>\n",
       "      <th>social_linkedin_shares</th>\n",
       "      <th>...</th>\n",
       "      <th>thread_published</th>\n",
       "      <th>thread_participants_count</th>\n",
       "      <th>thread_url</th>\n",
       "      <th>thread_country</th>\n",
       "      <th>thread_site</th>\n",
       "      <th>thread_section_title</th>\n",
       "      <th>url</th>\n",
       "      <th>language</th>\n",
       "      <th>Keyword</th>\n",
       "      <th>relevent_flag</th>\n",
       "    </tr>\n",
       "  </thead>\n",
       "  <tbody>\n",
       "    <tr>\n",
       "      <th>0</th>\n",
       "      <td></td>\n",
       "      <td></td>\n",
       "      <td>32c1708b3df92e63bf83e37ce6b685785010882d</td>\n",
       "      <td>&gt; Entertainment NYC art exhibition gives food ...</td>\n",
       "      <td>NYC art exhibition gives food for thought</td>\n",
       "      <td>0.0</td>\n",
       "      <td></td>\n",
       "      <td>0.0</td>\n",
       "      <td>0.0</td>\n",
       "      <td>0.0</td>\n",
       "      <td>...</td>\n",
       "      <td>2015-10-13T08:29:00.000+03:00</td>\n",
       "      <td>0.0</td>\n",
       "      <td>http://www.wsoctv.com/photo/ap/entertainment/n...</td>\n",
       "      <td>US</td>\n",
       "      <td>wsoctv.com</td>\n",
       "      <td>News | Entertainment</td>\n",
       "      <td>http://www.wsoctv.com/photo/ap/entertainment/n...</td>\n",
       "      <td>english</td>\n",
       "      <td>Entertainment</td>\n",
       "      <td>1.0</td>\n",
       "    </tr>\n",
       "    <tr>\n",
       "      <th>1</th>\n",
       "      <td></td>\n",
       "      <td></td>\n",
       "      <td>afc6326a4fafdd25b0470d6e3505234ddedda086</td>\n",
       "      <td>Tracy Morgan performs first stand-up show sinc...</td>\n",
       "      <td>Tracy Morgan performs first stand-up show sinc...</td>\n",
       "      <td>0.0</td>\n",
       "      <td></td>\n",
       "      <td>0.0</td>\n",
       "      <td>0.0</td>\n",
       "      <td>0.0</td>\n",
       "      <td>...</td>\n",
       "      <td>2015-10-13T16:02:00.000+03:00</td>\n",
       "      <td>0.0</td>\n",
       "      <td>http://www.wtsp.com/story/entertainment/2015/1...</td>\n",
       "      <td>US</td>\n",
       "      <td>wtsp.com</td>\n",
       "      <td>WTSP - Entertainment</td>\n",
       "      <td>http://www.wtsp.com/story/entertainment/2015/1...</td>\n",
       "      <td>english</td>\n",
       "      <td>Entertainment</td>\n",
       "      <td>1.0</td>\n",
       "    </tr>\n",
       "    <tr>\n",
       "      <th>2</th>\n",
       "      <td></td>\n",
       "      <td></td>\n",
       "      <td>ac0f86c24d1a083941f7499166aeb8992157e06c</td>\n",
       "      <td>SUBSCRIBE FOLLOW US ┬й 2015 Cox Media Group . ...</td>\n",
       "      <td>Esquire's Sexiest Woman Alive is the sultry Em...</td>\n",
       "      <td>0.0</td>\n",
       "      <td></td>\n",
       "      <td>0.0</td>\n",
       "      <td>0.0</td>\n",
       "      <td>0.0</td>\n",
       "      <td>...</td>\n",
       "      <td>2015-10-13T07:08:00.000+03:00</td>\n",
       "      <td>0.0</td>\n",
       "      <td>http://www.palmbeachpost.com/ap/ap/entertainme...</td>\n",
       "      <td>US</td>\n",
       "      <td>palmbeachpost.com</td>\n",
       "      <td>News | Entertainment</td>\n",
       "      <td>http://www.palmbeachpost.com/ap/ap/entertainme...</td>\n",
       "      <td>english</td>\n",
       "      <td>Entertainment</td>\n",
       "      <td>1.0</td>\n",
       "    </tr>\n",
       "    <tr>\n",
       "      <th>3</th>\n",
       "      <td></td>\n",
       "      <td></td>\n",
       "      <td>09b3e01b14eaa909225806ee4bf95ac297b66e00</td>\n",
       "      <td>FCC Information President Barack Obama intervi...</td>\n",
       "      <td>President Barack Obama interviews author Maril...</td>\n",
       "      <td>0.0</td>\n",
       "      <td></td>\n",
       "      <td>0.0</td>\n",
       "      <td>0.0</td>\n",
       "      <td>0.0</td>\n",
       "      <td>...</td>\n",
       "      <td>2015-10-13T09:16:00.000+03:00</td>\n",
       "      <td>0.0</td>\n",
       "      <td>http://www.fox5vegas.com/story/30241348/presid...</td>\n",
       "      <td>US</td>\n",
       "      <td>fox5vegas.com</td>\n",
       "      <td>KVVU Las Vegas - Entertainment</td>\n",
       "      <td>http://www.fox5vegas.com/story/30241348/presid...</td>\n",
       "      <td>english</td>\n",
       "      <td>Entertainment</td>\n",
       "      <td>1.0</td>\n",
       "    </tr>\n",
       "    <tr>\n",
       "      <th>4</th>\n",
       "      <td></td>\n",
       "      <td></td>\n",
       "      <td>37b6285ff56465ce25602ebf4a2f74f331a70811</td>\n",
       "      <td>Source: Ghana | Hitz FM | Euphemia Akpalu Date...</td>\n",
       "      <td>I will perform at night clubs, shows тАУ Pasto...</td>\n",
       "      <td>0.0</td>\n",
       "      <td></td>\n",
       "      <td>0.0</td>\n",
       "      <td>0.0</td>\n",
       "      <td>0.0</td>\n",
       "      <td>...</td>\n",
       "      <td>2015-10-12T05:10:00.000+03:00</td>\n",
       "      <td>0.0</td>\n",
       "      <td>http://www.myjoyonline.com/entertainment/2015/...</td>\n",
       "      <td>US</td>\n",
       "      <td>myjoyonline.com</td>\n",
       "      <td>Ghana Entertainment HomePage</td>\n",
       "      <td>http://www.myjoyonline.com/entertainment/2015/...</td>\n",
       "      <td>english</td>\n",
       "      <td>Entertainment</td>\n",
       "      <td>1.0</td>\n",
       "    </tr>\n",
       "  </tbody>\n",
       "</table>\n",
       "<p>5 rows × 37 columns</p>\n",
       "</div>"
      ],
      "text/plain": [
       "  author highlightTitle                                      uuid  \\\n",
       "0                        32c1708b3df92e63bf83e37ce6b685785010882d   \n",
       "1                        afc6326a4fafdd25b0470d6e3505234ddedda086   \n",
       "2                        ac0f86c24d1a083941f7499166aeb8992157e06c   \n",
       "3                        09b3e01b14eaa909225806ee4bf95ac297b66e00   \n",
       "4                        37b6285ff56465ce25602ebf4a2f74f331a70811   \n",
       "\n",
       "                                                text  \\\n",
       "0  > Entertainment NYC art exhibition gives food ...   \n",
       "1  Tracy Morgan performs first stand-up show sinc...   \n",
       "2  SUBSCRIBE FOLLOW US ┬й 2015 Cox Media Group . ...   \n",
       "3  FCC Information President Barack Obama intervi...   \n",
       "4  Source: Ghana | Hitz FM | Euphemia Akpalu Date...   \n",
       "\n",
       "                                               title  ord_in_thread  \\\n",
       "0          NYC art exhibition gives food for thought            0.0   \n",
       "1  Tracy Morgan performs first stand-up show sinc...            0.0   \n",
       "2  Esquire's Sexiest Woman Alive is the sultry Em...            0.0   \n",
       "3  President Barack Obama interviews author Maril...            0.0   \n",
       "4  I will perform at night clubs, shows тАУ Pasto...            0.0   \n",
       "\n",
       "  highlightText  social_vk_shares  social_stumbledupon_shares  \\\n",
       "0                             0.0                         0.0   \n",
       "1                             0.0                         0.0   \n",
       "2                             0.0                         0.0   \n",
       "3                             0.0                         0.0   \n",
       "4                             0.0                         0.0   \n",
       "\n",
       "   social_linkedin_shares      ...                    thread_published  \\\n",
       "0                     0.0      ...       2015-10-13T08:29:00.000+03:00   \n",
       "1                     0.0      ...       2015-10-13T16:02:00.000+03:00   \n",
       "2                     0.0      ...       2015-10-13T07:08:00.000+03:00   \n",
       "3                     0.0      ...       2015-10-13T09:16:00.000+03:00   \n",
       "4                     0.0      ...       2015-10-12T05:10:00.000+03:00   \n",
       "\n",
       "   thread_participants_count  \\\n",
       "0                        0.0   \n",
       "1                        0.0   \n",
       "2                        0.0   \n",
       "3                        0.0   \n",
       "4                        0.0   \n",
       "\n",
       "                                          thread_url  thread_country  \\\n",
       "0  http://www.wsoctv.com/photo/ap/entertainment/n...              US   \n",
       "1  http://www.wtsp.com/story/entertainment/2015/1...              US   \n",
       "2  http://www.palmbeachpost.com/ap/ap/entertainme...              US   \n",
       "3  http://www.fox5vegas.com/story/30241348/presid...              US   \n",
       "4  http://www.myjoyonline.com/entertainment/2015/...              US   \n",
       "\n",
       "         thread_site            thread_section_title  \\\n",
       "0         wsoctv.com            News | Entertainment   \n",
       "1           wtsp.com            WTSP - Entertainment   \n",
       "2  palmbeachpost.com            News | Entertainment   \n",
       "3      fox5vegas.com  KVVU Las Vegas - Entertainment   \n",
       "4    myjoyonline.com    Ghana Entertainment HomePage   \n",
       "\n",
       "                                                 url  language        Keyword  \\\n",
       "0  http://www.wsoctv.com/photo/ap/entertainment/n...   english  Entertainment   \n",
       "1  http://www.wtsp.com/story/entertainment/2015/1...   english  Entertainment   \n",
       "2  http://www.palmbeachpost.com/ap/ap/entertainme...   english  Entertainment   \n",
       "3  http://www.fox5vegas.com/story/30241348/presid...   english  Entertainment   \n",
       "4  http://www.myjoyonline.com/entertainment/2015/...   english  Entertainment   \n",
       "\n",
       "  relevent_flag  \n",
       "0           1.0  \n",
       "1           1.0  \n",
       "2           1.0  \n",
       "3           1.0  \n",
       "4           1.0  \n",
       "\n",
       "[5 rows x 37 columns]"
      ]
     },
     "execution_count": 54,
     "metadata": {},
     "output_type": "execute_result"
    }
   ],
   "source": [
    "data.head()"
   ]
  },
  {
   "cell_type": "code",
   "execution_count": 29,
   "metadata": {
    "collapsed": false
   },
   "outputs": [
    {
     "data": {
      "text/plain": [
       "'7bcc2bd7b04c8b35d3f8a39669a4515775f372b0'"
      ]
     },
     "execution_count": 29,
     "metadata": {},
     "output_type": "execute_result"
    }
   ],
   "source": [
    "data['uuid'][69]"
   ]
  },
  {
   "cell_type": "code",
   "execution_count": 55,
   "metadata": {
    "collapsed": false,
    "scrolled": true
   },
   "outputs": [
    {
     "data": {
      "text/plain": [
       "6500"
      ]
     },
     "execution_count": 55,
     "metadata": {},
     "output_type": "execute_result"
    }
   ],
   "source": [
    "len(data)"
   ]
  },
  {
   "cell_type": "code",
   "execution_count": 37,
   "metadata": {
    "collapsed": false
   },
   "outputs": [],
   "source": [
    "data = data[pd.notnull(data['Keyword'])]"
   ]
  },
  {
   "cell_type": "code",
   "execution_count": null,
   "metadata": {
    "collapsed": true
   },
   "outputs": [],
   "source": []
  },
  {
   "cell_type": "code",
   "execution_count": 62,
   "metadata": {
    "collapsed": false
   },
   "outputs": [],
   "source": [
    "new_data.to_csv(\"PocessedJsonData.csv\")"
   ]
  },
  {
   "cell_type": "code",
   "execution_count": 58,
   "metadata": {
    "collapsed": true
   },
   "outputs": [],
   "source": [
    "new_data = pd.read_csv(\"PocessedJsonData.csv\")"
   ]
  },
  {
   "cell_type": "code",
   "execution_count": 60,
   "metadata": {
    "collapsed": true
   },
   "outputs": [],
   "source": [
    "new_data = new_data[pd.notnull(new_data['Keyword'])]"
   ]
  },
  {
   "cell_type": "code",
   "execution_count": 61,
   "metadata": {
    "collapsed": false
   },
   "outputs": [
    {
     "data": {
      "text/plain": [
       "6472"
      ]
     },
     "execution_count": 61,
     "metadata": {},
     "output_type": "execute_result"
    }
   ],
   "source": [
    "len(new_data)"
   ]
  },
  {
   "cell_type": "code",
   "execution_count": null,
   "metadata": {
    "collapsed": true
   },
   "outputs": [],
   "source": []
  },
  {
   "cell_type": "code",
   "execution_count": null,
   "metadata": {
    "collapsed": true
   },
   "outputs": [],
   "source": []
  },
  {
   "cell_type": "code",
   "execution_count": null,
   "metadata": {
    "collapsed": false
   },
   "outputs": [],
   "source": [
    "for directory, subdirectory, filenames in os.walk(path):\n",
    "    for filename in filenames:\n",
    "        with open(os.path.join(directory, filename), \"r\") as f:\n",
    "            df=pd.read_json(f)\n",
    "            result=pd.concat([result,df],axis=0)\n",
    "            thread_data.append(df[\"thread\"])\n",
    "            entities_data.append(df[\"entities\"])\n",
    "print(thread_data)"
   ]
  },
  {
   "cell_type": "code",
   "execution_count": null,
   "metadata": {
    "collapsed": false
   },
   "outputs": [],
   "source": [
    "#for x in np.arange(0,100):\n",
    "#    df=pd.read_json(\"C:\\\\Users\\\\prith\\\\Documents\\\\Python Scripts\\\\Data\\\\WebHoseAPI\\\\InputData_2017-04-17_00-44-13\\\\sample%s.json\" %x)\n",
    "#    result=pd.concat([result,df],axis=0)\n",
    "#    thread_data.append(df[\"thread\"])\n",
    "#    entities_data.append(df[\"entities\"])"
   ]
  },
  {
   "cell_type": "code",
   "execution_count": null,
   "metadata": {
    "collapsed": false
   },
   "outputs": [],
   "source": [
    "result"
   ]
  },
  {
   "cell_type": "code",
   "execution_count": null,
   "metadata": {
    "collapsed": true
   },
   "outputs": [],
   "source": [
    "result.to_csv(\"result1.csv\")"
   ]
  },
  {
   "cell_type": "code",
   "execution_count": null,
   "metadata": {
    "collapsed": true
   },
   "outputs": [],
   "source": [
    "threaddf=pd.DataFrame.from_records(thread_data,columns=[\"site_full\",\"main_image\",\"site_section\",\"section_title\",\"url\",\"country\",\"title\",\"performance_score\",\"site\",\"participants_count\",\"title_full\",\"spam_score\",\"site_type\",\"published\",\"replies_count\",\"uuid\"])\n",
    "entitiesdf=pd.DataFrame.from_records(entities_data,columns=[\"persons\",\"locations\",\"organizations\"])"
   ]
  },
  {
   "cell_type": "code",
   "execution_count": null,
   "metadata": {
    "collapsed": false
   },
   "outputs": [],
   "source": [
    "thread_data"
   ]
  },
  {
   "cell_type": "code",
   "execution_count": null,
   "metadata": {
    "collapsed": false
   },
   "outputs": [],
   "source": [
    "threaddf.head()"
   ]
  },
  {
   "cell_type": "code",
   "execution_count": null,
   "metadata": {
    "collapsed": false
   },
   "outputs": [],
   "source": [
    "completedf=pd.concat([result,threaddf,entitiesdf],axis=1)\n",
    "completedf = completedf.drop([\"thread\",\"entities\"], 1)\n",
    "completedf = completedf.drop([\"uuid1\",\"url1\",\"title1\",\"locations1\",\"persons1\",\"published1\"], 1)\n",
    "#completedf = completedf.drop([\"organizations\",\"highlightText\",\"highlightTitle\"], 1)"
   ]
  },
  {
   "cell_type": "code",
   "execution_count": null,
   "metadata": {
    "collapsed": false
   },
   "outputs": [],
   "source": [
    "len(completedf[\"author\"].unique())"
   ]
  },
  {
   "cell_type": "code",
   "execution_count": null,
   "metadata": {
    "collapsed": true
   },
   "outputs": [],
   "source": []
  }
 ],
 "metadata": {
  "anaconda-cloud": {},
  "kernelspec": {
   "display_name": "Python [default]",
   "language": "python",
   "name": "python3"
  },
  "language_info": {
   "codemirror_mode": {
    "name": "ipython",
    "version": 3
   },
   "file_extension": ".py",
   "mimetype": "text/x-python",
   "name": "python",
   "nbconvert_exporter": "python",
   "pygments_lexer": "ipython3",
   "version": "3.5.2"
  }
 },
 "nbformat": 4,
 "nbformat_minor": 1
}
