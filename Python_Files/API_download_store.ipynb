{
 "cells": [
  {
   "cell_type": "code",
   "execution_count": null,
   "metadata": {
    "collapsed": false
   },
   "outputs": [],
   "source": [
    "import pip\n",
    "def install(package):\n",
    "   pip.main(['install', package])\n",
    "\n",
    "install('BeautifulSoup4')\n",
    "install('webhoseio')"
   ]
  },
  {
   "cell_type": "code",
   "execution_count": null,
   "metadata": {
    "collapsed": false
   },
   "outputs": [],
   "source": [
    "#importing required packages\n",
    "import webhoseio\n",
    "import requests\n",
    "import numpy as np\n",
    "import pandas as pd\n",
    "import json\n",
    "import os\n",
    "import time\n",
    "import datetime"
   ]
  },
  {
   "cell_type": "code",
   "execution_count": null,
   "metadata": {
    "collapsed": false
   },
   "outputs": [],
   "source": [
    "webhoseio.config(token=os.getenv('token'))\n",
    "print(\"token=\",os.getenv('token'))"
   ]
  },
  {
   "cell_type": "code",
   "execution_count": null,
   "metadata": {
    "collapsed": false
   },
   "outputs": [],
   "source": [
    "#getting input from\n",
    "output = webhoseio.query(\"filterWebData\",{\"q\":\"Reviews\"})"
   ]
  },
  {
   "cell_type": "code",
   "execution_count": null,
   "metadata": {
    "collapsed": true
   },
   "outputs": [],
   "source": [
    "#taking only blogs from post tag\n",
    "post_data=output[\"posts\"]"
   ]
  },
  {
   "cell_type": "code",
   "execution_count": null,
   "metadata": {
    "collapsed": true
   },
   "outputs": [],
   "source": [
    "#Check if a directory exists in the path or not;if not create one\n",
    "def dir(file_path,directory_name):\n",
    "    if not os.path.exists(file_path+\"/\"+directory_name):\n",
    "        os.mkdir(file_path+\"/\"+directory_name)\n",
    "    return file_path+\"/\"+directory_name"
   ]
  },
  {
   "cell_type": "code",
   "execution_count": null,
   "metadata": {
    "collapsed": false
   },
   "outputs": [],
   "source": [
    "current_directory = os.getcwd() #To access the path of current working directory\n",
    "root_directory=os.path.abspath(os.path.join(current_directory, os.pardir)) #To get the parent directory of current directory\n",
    "data_directory=dir(root_directory,\"Data\") #Create Data folder in parent_directory\n",
    "file_directory=dir(data_directory,\"Input Data\") #Create Input Data folder in data_directory"
   ]
  },
  {
   "cell_type": "code",
   "execution_count": null,
   "metadata": {
    "collapsed": true
   },
   "outputs": [],
   "source": [
    "ts = time.time()\n",
    "st = datetime.datetime.fromtimestamp(ts).strftime('%Y-%m-%d_%H-%M-%S')"
   ]
  },
  {
   "cell_type": "code",
   "execution_count": null,
   "metadata": {
    "collapsed": false
   },
   "outputs": [],
   "source": [
    "#dynamically storing files according to country they belong to\n",
    "for x in np.arange(0,100):\n",
    "    for key,value in post_data[x][\"thread\"].items():\n",
    "        if key == 'country':\n",
    "            if not value:\n",
    "                path=dir(file_directory,\"Not Mentioned\")    #Creating Not Mentioned folder for blogs with empty  country tag      \n",
    "                uuid=post_data[x][\"uuid\"]\n",
    "                with open(path+\"/\"+uuid+\"_\"+st+'.json', 'w') as f:\n",
    "                    json.dump(post_data[x:x+1], f)\n",
    "            else:\n",
    "                path=dir(file_directory,post_data[x][\"thread\"][\"country\"])    #Creating specific country folder      \n",
    "                uuid=post_data[x][\"uuid\"]\n",
    "                with open(path+\"/\"+uuid+\"_\"+st+'.json', 'w') as f:\n",
    "                     json.dump(post_data[x:x+1], f)\n",
    "print(\"done\")"
   ]
  },
  {
   "cell_type": "code",
   "execution_count": null,
   "metadata": {
    "collapsed": true
   },
   "outputs": [],
   "source": []
  }
 ],
 "metadata": {
  "anaconda-cloud": {},
  "kernelspec": {
   "display_name": "Python [default]",
   "language": "python",
   "name": "python3"
  },
  "language_info": {
   "codemirror_mode": {
    "name": "ipython",
    "version": 3
   },
   "file_extension": ".py",
   "mimetype": "text/x-python",
   "name": "python",
   "nbconvert_exporter": "python",
   "pygments_lexer": "ipython3",
   "version": "3.5.2"
  }
 },
 "nbformat": 4,
 "nbformat_minor": 1
}
