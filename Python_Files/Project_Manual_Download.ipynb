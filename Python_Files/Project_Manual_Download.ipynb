{
 "cells": [
  {
   "cell_type": "code",
   "execution_count": 68,
   "metadata": {
    "collapsed": false,
    "scrolled": true
   },
   "outputs": [
    {
     "name": "stdout",
     "output_type": "stream",
     "text": [
      "Requirement already satisfied: BeautifulSoup4 in c:\\users\\tejesh\\anaconda3\\lib\\site-packages\n",
      "Requirement already satisfied: webhoseio in c:\\users\\tejesh\\anaconda3\\lib\\site-packages\n",
      "Requirement already satisfied: requests>=2.0.0 in c:\\users\\tejesh\\anaconda3\\lib\\site-packages (from webhoseio)\n"
     ]
    }
   ],
   "source": [
    "import pip\n",
    "def install(package):\n",
    "   pip.main(['install', package])\n",
    "\n",
    "install('BeautifulSoup4')\n",
    "install('webhoseio')"
   ]
  },
  {
   "cell_type": "code",
   "execution_count": 69,
   "metadata": {
    "collapsed": true
   },
   "outputs": [],
   "source": [
    "import webhoseio\n",
    "import requests\n",
    "import numpy as np\n",
    "import pandas as pd\n",
    "import json\n",
    "import os\n",
    "import time\n",
    "import datetime"
   ]
  },
  {
   "cell_type": "code",
   "execution_count": null,
   "metadata": {
    "collapsed": false
   },
   "outputs": [],
   "source": []
  },
  {
   "cell_type": "code",
   "execution_count": 2,
   "metadata": {
    "collapsed": true
   },
   "outputs": [],
   "source": [
    "#result=pd.DataFrame()\n",
    "thread_data=[]\n",
    "entities_data=[]"
   ]
  },
  {
   "cell_type": "code",
   "execution_count": 3,
   "metadata": {
    "collapsed": false
   },
   "outputs": [
    {
     "name": "stdout",
     "output_type": "stream",
     "text": [
      "C:\\Users\\TEJESH\\Documents\n",
      "C:\\Users\\TEJESH\\Documents\\Python Scripts\n"
     ]
    }
   ],
   "source": [
    "current_directory=os.getcwd()\n",
    "root_directory=os.path.abspath(os.path.join(current_directory, os.pardir)) #To get the parent directory of current directory\n",
    "print(root_directory)\n",
    "print(current_directory)"
   ]
  },
  {
   "cell_type": "code",
   "execution_count": 62,
   "metadata": {
    "collapsed": false
   },
   "outputs": [
    {
     "name": "stdout",
     "output_type": "stream",
     "text": [
      "C:\\Users\\TEJESH\\Documents\\ADS_Dataframe\\Blogs\\\n"
     ]
    }
   ],
   "source": [
    "path=root_directory+\"\\\\ADS_Dataframe\\\\Blogs\\\\\"\n",
    "print(path)"
   ]
  },
  {
   "cell_type": "code",
   "execution_count": null,
   "metadata": {
    "collapsed": false
   },
   "outputs": [],
   "source": []
  },
  {
   "cell_type": "code",
   "execution_count": 63,
   "metadata": {
    "collapsed": false,
    "scrolled": true
   },
   "outputs": [
    {
     "data": {
      "text/plain": [
       "Index(['published', 'crawled', 'text', 'highlightText', 'locations', 'title',\n",
       "       'entities', 'social', 'highlightTitle', 'persons', 'author',\n",
       "       'external_links', 'ord_in_thread', 'thread', 'url', 'organizations',\n",
       "       'language', 'facebook_share', 'facebook_likes', 'facebook_comments',\n",
       "       'gplus_share', 'gplus_likes', 'gplus_comments', 'linkedin_share',\n",
       "       'linkedin_likes', 'linkedin_comments', 'pinterest_share',\n",
       "       'pinterest_likes', 'pinterest_comments', 'stumbledupon_share',\n",
       "       'stumbledupon_likes', 'stumbledupon_comments', 'vk_share', 'vk_likes',\n",
       "       'vk_comments', 'section_title', 'performance_score', 'published',\n",
       "       'site_section', 'country', 'spam_score', 'site_full', 'replies_count',\n",
       "       'title', 'main_image', 'site_type', 'site', 'title_full', 'url',\n",
       "       'participants_count', 'domain_rank'],\n",
       "      dtype='object')"
      ]
     },
     "execution_count": 63,
     "metadata": {},
     "output_type": "execute_result"
    }
   ],
   "source": [
    "#final_data1 = pd.DataFrame()\n",
    "final_data_list = []\n",
    "for directory, subdirectory, filenames in os.walk(path):\n",
    "    for filename in filenames:\n",
    "        with open(os.path.join(directory, filename), \"r\", encoding=\"ISO-8859-1\") as f:\n",
    "            file_data = json.load(f)\n",
    "            data = pd.DataFrame.from_dict(file_data, orient='index').T.set_index('uuid') \n",
    "            thread_data = pd.DataFrame.from_dict(data['thread'][0], orient='index').T.set_index('uuid')\n",
    "            #social_data = pd.DataFrame.from_dict(data['social'][0], orient='index').T.set_index('shares')\n",
    "            social_data = pd.DataFrame.from_dict(data['social'][0], orient='index')\n",
    "\n",
    "            data['facebook_share'] = social_data['shares']['facebook']\n",
    "            data['facebook_likes'] = social_data['likes']['facebook']\n",
    "            data['facebook_comments'] = social_data['comments']['facebook']\n",
    "\n",
    "            data['gplus_share'] = social_data['shares']['gplus']\n",
    "            data['gplus_likes'] = social_data['likes']['gplus']\n",
    "            data['gplus_comments'] = social_data['comments']['gplus']\n",
    "\n",
    "            data['linkedin_share'] = social_data['shares']['linkedin']\n",
    "            data['linkedin_likes'] = social_data['likes']['linkedin']\n",
    "            data['linkedin_comments'] = social_data['comments']['linkedin']\n",
    "\n",
    "            data['pinterest_share'] = social_data['shares']['pinterest']\n",
    "            data['pinterest_likes'] = social_data['likes']['pinterest']\n",
    "            data['pinterest_comments'] = social_data['comments']['pinterest']\n",
    "\n",
    "            data['stumbledupon_share'] = social_data['shares']['stumbledupon']\n",
    "            data['stumbledupon_likes'] = social_data['likes']['stumbledupon']\n",
    "            data['stumbledupon_comments'] = social_data['comments']['stumbledupon']\n",
    "\n",
    "            data['vk_share'] = social_data['shares']['vk']\n",
    "            data['vk_likes'] = social_data['likes']['vk']\n",
    "            data['vk_comments'] = social_data['comments']['vk']\n",
    "            \n",
    "            final_data = pd.concat([data,thread_data], axis=1)\n",
    "            #final_data1 = pd.concat([final_data1,final_data])\n",
    "            final_data_list.append(final_data)\n",
    "            \n",
    "all_data = pd.concat(final_data_list)\n",
    "            \n",
    "all_data.columns"
   ]
  },
  {
   "cell_type": "code",
   "execution_count": 64,
   "metadata": {
    "collapsed": false
   },
   "outputs": [],
   "source": [
    "all_data['Keyword'] = 'Blogs'"
   ]
  },
  {
   "cell_type": "code",
   "execution_count": 65,
   "metadata": {
    "collapsed": true
   },
   "outputs": [],
   "source": [
    "all_data[:500].to_csv(\"Popular_Blogs.csv\")"
   ]
  },
  {
   "cell_type": "code",
   "execution_count": null,
   "metadata": {
    "collapsed": false
   },
   "outputs": [],
   "source": [
    "type(file_data)"
   ]
  },
  {
   "cell_type": "code",
   "execution_count": null,
   "metadata": {
    "collapsed": false,
    "scrolled": false
   },
   "outputs": [],
   "source": [
    "len(all_data)"
   ]
  },
  {
   "cell_type": "code",
   "execution_count": null,
   "metadata": {
    "collapsed": true
   },
   "outputs": [],
   "source": []
  },
  {
   "cell_type": "code",
   "execution_count": 70,
   "metadata": {
    "collapsed": false
   },
   "outputs": [
    {
     "name": "stdout",
     "output_type": "stream",
     "text": [
      "C:\\Users\\TEJESH\\Documents\\ADS_csv\\\n"
     ]
    }
   ],
   "source": [
    "csvpath=root_directory+\"\\\\ADS_csv\\\\\"\n",
    "print(csvpath)"
   ]
  },
  {
   "cell_type": "code",
   "execution_count": 78,
   "metadata": {
    "collapsed": true
   },
   "outputs": [],
   "source": [
    "#to combine all csv's in one\n",
    "fout=open(csvpath+\"Entertainment_News.csv\",\"a\")\n",
    "for line in open(csvpath+\"World_News.csv\"):\n",
    "    fout.write(line)\n",
    "fout.close()"
   ]
  },
  {
   "cell_type": "code",
   "execution_count": null,
   "metadata": {
    "collapsed": true
   },
   "outputs": [],
   "source": []
  }
 ],
 "metadata": {
  "anaconda-cloud": {},
  "kernelspec": {
   "display_name": "Python [default]",
   "language": "python",
   "name": "python3"
  },
  "language_info": {
   "codemirror_mode": {
    "name": "ipython",
    "version": 3
   },
   "file_extension": ".py",
   "mimetype": "text/x-python",
   "name": "python",
   "nbconvert_exporter": "python",
   "pygments_lexer": "ipython3",
   "version": "3.5.2"
  }
 },
 "nbformat": 4,
 "nbformat_minor": 1
}
